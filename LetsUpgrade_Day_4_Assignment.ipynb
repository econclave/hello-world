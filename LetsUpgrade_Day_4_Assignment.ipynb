{
  "nbformat": 4,
  "nbformat_minor": 0,
  "metadata": {
    "colab": {
      "name": "LetsUpgrade Day 4 Assignment.ipynb",
      "provenance": [],
      "authorship_tag": "ABX9TyOuM5irBTMAeNNwX8mABFpR",
      "include_colab_link": true
    },
    "kernelspec": {
      "name": "python3",
      "display_name": "Python 3"
    }
  },
  "cells": [
    {
      "cell_type": "markdown",
      "metadata": {
        "id": "view-in-github",
        "colab_type": "text"
      },
      "source": [
        "<a href=\"https://colab.research.google.com/github/econclave/hello-world/blob/master/LetsUpgrade_Day_4_Assignment.ipynb\" target=\"_parent\"><img src=\"https://colab.research.google.com/assets/colab-badge.svg\" alt=\"Open In Colab\"/></a>"
      ]
    },
    {
      "cell_type": "code",
      "metadata": {
        "id": "tPlhM_7ulJD7",
        "colab_type": "code",
        "colab": {}
      },
      "source": [
        "# To print Armstrong Numbers\n",
        "\n",
        "lower = int(input(\"Enter lower range: \"))  \n",
        "upper = int(input(\"Enter upper range: \"))  \n",
        "for num in range(lower,upper + 1):  \n",
        "sum = 0  \n",
        "temp = num  \n",
        "while temp > 0:  \n",
        "digit = temp % 10  \n",
        "sum += digit ** 3  \n",
        "temp //= 10  \n",
        "if num == sum:  \n",
        "print(num)  "
      ],
      "execution_count": null,
      "outputs": []
    }
  ]
}