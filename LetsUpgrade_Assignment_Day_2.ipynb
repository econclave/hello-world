{
  "nbformat": 4,
  "nbformat_minor": 0,
  "metadata": {
    "colab": {
      "name": "LetsUpgrade Assignment Day 2.ipynb",
      "provenance": [],
      "authorship_tag": "ABX9TyObEka6aKix5PQx6hj9z40o",
      "include_colab_link": true
    },
    "kernelspec": {
      "name": "python3",
      "display_name": "Python 3"
    }
  },
  "cells": [
    {
      "cell_type": "markdown",
      "metadata": {
        "id": "view-in-github",
        "colab_type": "text"
      },
      "source": [
        "<a href=\"https://colab.research.google.com/github/econclave/hello-world/blob/master/LetsUpgrade_Assignment_Day_2.ipynb\" target=\"_parent\"><img src=\"https://colab.research.google.com/assets/colab-badge.svg\" alt=\"Open In Colab\"/></a>"
      ]
    },
    {
      "cell_type": "code",
      "metadata": {
        "id": "OeaAZ-E8b2LZ",
        "colab_type": "code",
        "colab": {}
      },
      "source": [
        "# Lists\n",
        "list = [1, 6.7, \"Shreya\", \"Shrav\", \"King\", 8]"
      ],
      "execution_count": 5,
      "outputs": []
    },
    {
      "cell_type": "code",
      "metadata": {
        "id": "V_XWihqTWjes",
        "colab_type": "code",
        "colab": {}
      },
      "source": [
        "# Dictionary\n",
        "Dic = {\"name\": \"Dirty Harry\", \"Profession\": \"Contract killing\", \"Age\": \"45\", \"Nationality\": \"Caucasian\"}"
      ],
      "execution_count": 7,
      "outputs": []
    },
    {
      "cell_type": "code",
      "metadata": {
        "id": "_rF1f8IYYQCq",
        "colab_type": "code",
        "colab": {}
      },
      "source": [
        "# Sets\n",
        "dataScientist = set(['Python', 'R', 'SQL', 'Tableau', 'Git', 'Matlab'])"
      ],
      "execution_count": 12,
      "outputs": []
    },
    {
      "cell_type": "code",
      "metadata": {
        "id": "QPFhbOwyZCWD",
        "colab_type": "code",
        "colab": {}
      },
      "source": [
        "# Tuple\n",
        "tup1 = ('king', 'queen', 'jack', 'ace')"
      ],
      "execution_count": 14,
      "outputs": []
    },
    {
      "cell_type": "code",
      "metadata": {
        "id": "mdmpK-aSZmF0",
        "colab_type": "code",
        "colab": {}
      },
      "source": [
        "# Strings\n",
        "m = \"hi fi\"\n",
        "u = \"34\"\n",
        "t = \"yes\""
      ],
      "execution_count": 15,
      "outputs": []
    }
  ]
}