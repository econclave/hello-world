{
  "nbformat": 4,
  "nbformat_minor": 0,
  "metadata": {
    "colab": {
      "name": "LetsUpgrade Day 3 Assignment.ipynb",
      "provenance": [],
      "authorship_tag": "ABX9TyNgU0JwCVNBSUER58Mufgvm",
      "include_colab_link": true
    },
    "kernelspec": {
      "name": "python3",
      "display_name": "Python 3"
    }
  },
  "cells": [
    {
      "cell_type": "markdown",
      "metadata": {
        "id": "view-in-github",
        "colab_type": "text"
      },
      "source": [
        "<a href=\"https://colab.research.google.com/github/econclave/hello-world/blob/master/LetsUpgrade_Day_3_Assignment.ipynb\" target=\"_parent\"><img src=\"https://colab.research.google.com/assets/colab-badge.svg\" alt=\"Open In Colab\"/></a>"
      ]
    },
    {
      "cell_type": "code",
      "metadata": {
        "id": "EglzzNPWavtB",
        "colab_type": "code",
        "colab": {
          "base_uri": "https://localhost:8080/",
          "height": 52
        },
        "outputId": "f5857771-4e71-4828-c6c9-82029ca06d5f"
      },
      "source": [
        "# Question 1 - Pilot and Plane landing\n",
        "\n",
        "alt = input(\"Enter the altitude of flight- \")\n",
        "alt = int(alt)\n",
        "\n",
        "if alt < 1000:\n",
        "  print(\"Safe to land\")\n",
        "elif alt > 1000 and alt < 5000:\n",
        "  print(\"Bring down to 1000 ft\")\n",
        "elif alt > 5000:\n",
        "  print(\"Go around and try later\")\n",
        "else:\n",
        "  print(\"invalid input\")      "
      ],
      "execution_count": 4,
      "outputs": [
        {
          "output_type": "stream",
          "text": [
            "Enter the altitude of flight- 4000\n",
            "Bring down to 1000 ft\n"
          ],
          "name": "stdout"
        }
      ]
    }
  ]
}